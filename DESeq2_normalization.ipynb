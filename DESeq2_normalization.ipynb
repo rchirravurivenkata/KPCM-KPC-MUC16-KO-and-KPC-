{
 "cells": [
  {
   "cell_type": "code",
   "execution_count": 1,
   "metadata": {},
   "outputs": [],
   "source": [
    "gt = read.csv(\"~/all_feats/featurecounts.txt\", header = T, stringsAsFactors = F, check.names = F ,sep = \"\\t\", comment.char = \"#\", row.names = 1)"
   ]
  },
  {
   "cell_type": "code",
   "execution_count": 2,
   "metadata": {},
   "outputs": [],
   "source": [
    "rownames(gt) = gsub(\"[.][0-9]+$\", \"\", rownames(gt))"
   ]
  },
  {
   "cell_type": "code",
   "execution_count": 3,
   "metadata": {},
   "outputs": [],
   "source": [
    "mart = read.csv(\"~/Downloads/mart_export(1).txt\", sep = \"\\t\", stringsAsFactors = F, check.names = F, header = T, row.names =1)"
   ]
  },
  {
   "cell_type": "code",
   "execution_count": 4,
   "metadata": {},
   "outputs": [
    {
     "data": {
      "text/html": [
       "<table class=\"dataframe\">\n",
       "<caption>A data.frame: 6 × 1</caption>\n",
       "<thead>\n",
       "\t<tr><th></th><th scope=col>Gene name</th></tr>\n",
       "\t<tr><th></th><th scope=col>&lt;chr&gt;</th></tr>\n",
       "</thead>\n",
       "<tbody>\n",
       "\t<tr><th scope=row>ENSMUSG00000064336</th><td>mt-Tf  </td></tr>\n",
       "\t<tr><th scope=row>ENSMUSG00000064337</th><td>mt-Rnr1</td></tr>\n",
       "\t<tr><th scope=row>ENSMUSG00000064338</th><td>mt-Tv  </td></tr>\n",
       "\t<tr><th scope=row>ENSMUSG00000064339</th><td>mt-Rnr2</td></tr>\n",
       "\t<tr><th scope=row>ENSMUSG00000064340</th><td>mt-Tl1 </td></tr>\n",
       "\t<tr><th scope=row>ENSMUSG00000064341</th><td>mt-Nd1 </td></tr>\n",
       "</tbody>\n",
       "</table>\n"
      ],
      "text/latex": [
       "A data.frame: 6 × 1\n",
       "\\begin{tabular}{r|l}\n",
       "  & Gene name\\\\\n",
       "  & <chr>\\\\\n",
       "\\hline\n",
       "\tENSMUSG00000064336 & mt-Tf  \\\\\n",
       "\tENSMUSG00000064337 & mt-Rnr1\\\\\n",
       "\tENSMUSG00000064338 & mt-Tv  \\\\\n",
       "\tENSMUSG00000064339 & mt-Rnr2\\\\\n",
       "\tENSMUSG00000064340 & mt-Tl1 \\\\\n",
       "\tENSMUSG00000064341 & mt-Nd1 \\\\\n",
       "\\end{tabular}\n"
      ],
      "text/markdown": [
       "\n",
       "A data.frame: 6 × 1\n",
       "\n",
       "| <!--/--> | Gene name &lt;chr&gt; |\n",
       "|---|---|\n",
       "| ENSMUSG00000064336 | mt-Tf   |\n",
       "| ENSMUSG00000064337 | mt-Rnr1 |\n",
       "| ENSMUSG00000064338 | mt-Tv   |\n",
       "| ENSMUSG00000064339 | mt-Rnr2 |\n",
       "| ENSMUSG00000064340 | mt-Tl1  |\n",
       "| ENSMUSG00000064341 | mt-Nd1  |\n",
       "\n"
      ],
      "text/plain": [
       "                   Gene name\n",
       "ENSMUSG00000064336 mt-Tf    \n",
       "ENSMUSG00000064337 mt-Rnr1  \n",
       "ENSMUSG00000064338 mt-Tv    \n",
       "ENSMUSG00000064339 mt-Rnr2  \n",
       "ENSMUSG00000064340 mt-Tl1   \n",
       "ENSMUSG00000064341 mt-Nd1   "
      ]
     },
     "metadata": {},
     "output_type": "display_data"
    }
   ],
   "source": [
    "head(mart)"
   ]
  },
  {
   "cell_type": "code",
   "execution_count": 5,
   "metadata": {},
   "outputs": [],
   "source": [
    "names = mart[rownames(gt), 1]"
   ]
  },
  {
   "cell_type": "code",
   "execution_count": 6,
   "metadata": {},
   "outputs": [
    {
     "data": {
      "text/html": [
       "<style>\n",
       ".list-inline {list-style: none; margin:0; padding: 0}\n",
       ".list-inline>li {display: inline-block}\n",
       ".list-inline>li:not(:last-child)::after {content: \"\\00b7\"; padding: 0 .5ex}\n",
       "</style>\n",
       "<ol class=list-inline><li>'4933401J01Rik'</li><li>'Gm26206'</li><li>'Xkr4'</li><li>'Gm18956'</li><li>'Gm37180'</li><li>'Gm37363'</li></ol>\n"
      ],
      "text/latex": [
       "\\begin{enumerate*}\n",
       "\\item '4933401J01Rik'\n",
       "\\item 'Gm26206'\n",
       "\\item 'Xkr4'\n",
       "\\item 'Gm18956'\n",
       "\\item 'Gm37180'\n",
       "\\item 'Gm37363'\n",
       "\\end{enumerate*}\n"
      ],
      "text/markdown": [
       "1. '4933401J01Rik'\n",
       "2. 'Gm26206'\n",
       "3. 'Xkr4'\n",
       "4. 'Gm18956'\n",
       "5. 'Gm37180'\n",
       "6. 'Gm37363'\n",
       "\n",
       "\n"
      ],
      "text/plain": [
       "[1] \"4933401J01Rik\" \"Gm26206\"       \"Xkr4\"          \"Gm18956\"      \n",
       "[5] \"Gm37180\"       \"Gm37363\"      "
      ]
     },
     "metadata": {},
     "output_type": "display_data"
    }
   ],
   "source": [
    "head(names)"
   ]
  },
  {
   "cell_type": "code",
   "execution_count": 7,
   "metadata": {},
   "outputs": [],
   "source": [
    "gt = gt[, -c(1:5)]\n",
    "gt = as.matrix(gt)\n",
    "rownames(gt) = names"
   ]
  },
  {
   "cell_type": "code",
   "execution_count": 8,
   "metadata": {},
   "outputs": [],
   "source": [
    "si = read.csv(\"~/df_sarvana.csv\", header= T, stringsAsFactors = F, row.names =1)"
   ]
  },
  {
   "cell_type": "code",
   "execution_count": 9,
   "metadata": {},
   "outputs": [
    {
     "data": {
      "text/html": [
       "<table class=\"dataframe\">\n",
       "<caption>A data.frame: 6 × 2</caption>\n",
       "<thead>\n",
       "\t<tr><th></th><th scope=col>Condition</th><th scope=col>Sample</th></tr>\n",
       "\t<tr><th></th><th scope=col>&lt;chr&gt;</th><th scope=col>&lt;chr&gt;</th></tr>\n",
       "</thead>\n",
       "<tbody>\n",
       "\t<tr><th scope=row>KPC1/KPC1_S1_L001_sorted.bam</th><td>KPC</td><td>KPC1</td></tr>\n",
       "\t<tr><th scope=row>KPC1/KPC1_S1_L002_sorted.bam</th><td>KPC</td><td>KPC1</td></tr>\n",
       "\t<tr><th scope=row>KPC1/KPC1_S1_L003_sorted.bam</th><td>KPC</td><td>KPC1</td></tr>\n",
       "\t<tr><th scope=row>KPC1/KPC1_S1_L004_sorted.bam</th><td>KPC</td><td>KPC1</td></tr>\n",
       "\t<tr><th scope=row>KPC2/KPC2_S2_L001_sorted.bam</th><td>KPC</td><td>KPC2</td></tr>\n",
       "\t<tr><th scope=row>KPC2/KPC2_S2_L002_sorted.bam</th><td>KPC</td><td>KPC2</td></tr>\n",
       "</tbody>\n",
       "</table>\n"
      ],
      "text/latex": [
       "A data.frame: 6 × 2\n",
       "\\begin{tabular}{r|ll}\n",
       "  & Condition & Sample\\\\\n",
       "  & <chr> & <chr>\\\\\n",
       "\\hline\n",
       "\tKPC1/KPC1\\_S1\\_L001\\_sorted.bam & KPC & KPC1\\\\\n",
       "\tKPC1/KPC1\\_S1\\_L002\\_sorted.bam & KPC & KPC1\\\\\n",
       "\tKPC1/KPC1\\_S1\\_L003\\_sorted.bam & KPC & KPC1\\\\\n",
       "\tKPC1/KPC1\\_S1\\_L004\\_sorted.bam & KPC & KPC1\\\\\n",
       "\tKPC2/KPC2\\_S2\\_L001\\_sorted.bam & KPC & KPC2\\\\\n",
       "\tKPC2/KPC2\\_S2\\_L002\\_sorted.bam & KPC & KPC2\\\\\n",
       "\\end{tabular}\n"
      ],
      "text/markdown": [
       "\n",
       "A data.frame: 6 × 2\n",
       "\n",
       "| <!--/--> | Condition &lt;chr&gt; | Sample &lt;chr&gt; |\n",
       "|---|---|---|\n",
       "| KPC1/KPC1_S1_L001_sorted.bam | KPC | KPC1 |\n",
       "| KPC1/KPC1_S1_L002_sorted.bam | KPC | KPC1 |\n",
       "| KPC1/KPC1_S1_L003_sorted.bam | KPC | KPC1 |\n",
       "| KPC1/KPC1_S1_L004_sorted.bam | KPC | KPC1 |\n",
       "| KPC2/KPC2_S2_L001_sorted.bam | KPC | KPC2 |\n",
       "| KPC2/KPC2_S2_L002_sorted.bam | KPC | KPC2 |\n",
       "\n"
      ],
      "text/plain": [
       "                             Condition Sample\n",
       "KPC1/KPC1_S1_L001_sorted.bam KPC       KPC1  \n",
       "KPC1/KPC1_S1_L002_sorted.bam KPC       KPC1  \n",
       "KPC1/KPC1_S1_L003_sorted.bam KPC       KPC1  \n",
       "KPC1/KPC1_S1_L004_sorted.bam KPC       KPC1  \n",
       "KPC2/KPC2_S2_L001_sorted.bam KPC       KPC2  \n",
       "KPC2/KPC2_S2_L002_sorted.bam KPC       KPC2  "
      ]
     },
     "metadata": {},
     "output_type": "display_data"
    }
   ],
   "source": [
    "head(si)"
   ]
  },
  {
   "cell_type": "code",
   "execution_count": 11,
   "metadata": {},
   "outputs": [
    {
     "name": "stderr",
     "output_type": "stream",
     "text": [
      "Loading required package: S4Vectors\n",
      "\n",
      "Loading required package: stats4\n",
      "\n",
      "Loading required package: BiocGenerics\n",
      "\n",
      "\n",
      "Attaching package: ‘BiocGenerics’\n",
      "\n",
      "\n",
      "The following objects are masked from ‘package:stats’:\n",
      "\n",
      "    IQR, mad, sd, var, xtabs\n",
      "\n",
      "\n",
      "The following objects are masked from ‘package:base’:\n",
      "\n",
      "    anyDuplicated, append, as.data.frame, basename, cbind, colnames,\n",
      "    dirname, do.call, duplicated, eval, evalq, Filter, Find, get, grep,\n",
      "    grepl, intersect, is.unsorted, lapply, Map, mapply, match, mget,\n",
      "    order, paste, pmax, pmax.int, pmin, pmin.int, Position, rank,\n",
      "    rbind, Reduce, rownames, sapply, setdiff, sort, table, tapply,\n",
      "    union, unique, unsplit, which.max, which.min\n",
      "\n",
      "\n",
      "\n",
      "Attaching package: ‘S4Vectors’\n",
      "\n",
      "\n",
      "The following objects are masked from ‘package:base’:\n",
      "\n",
      "    expand.grid, I, unname\n",
      "\n",
      "\n",
      "Loading required package: IRanges\n",
      "\n",
      "Loading required package: GenomicRanges\n",
      "\n",
      "Loading required package: GenomeInfoDb\n",
      "\n",
      "Loading required package: SummarizedExperiment\n",
      "\n",
      "Loading required package: MatrixGenerics\n",
      "\n",
      "Loading required package: matrixStats\n",
      "\n",
      "\n",
      "Attaching package: ‘MatrixGenerics’\n",
      "\n",
      "\n",
      "The following objects are masked from ‘package:matrixStats’:\n",
      "\n",
      "    colAlls, colAnyNAs, colAnys, colAvgsPerRowSet, colCollapse,\n",
      "    colCounts, colCummaxs, colCummins, colCumprods, colCumsums,\n",
      "    colDiffs, colIQRDiffs, colIQRs, colLogSumExps, colMadDiffs,\n",
      "    colMads, colMaxs, colMeans2, colMedians, colMins, colOrderStats,\n",
      "    colProds, colQuantiles, colRanges, colRanks, colSdDiffs, colSds,\n",
      "    colSums2, colTabulates, colVarDiffs, colVars, colWeightedMads,\n",
      "    colWeightedMeans, colWeightedMedians, colWeightedSds,\n",
      "    colWeightedVars, rowAlls, rowAnyNAs, rowAnys, rowAvgsPerColSet,\n",
      "    rowCollapse, rowCounts, rowCummaxs, rowCummins, rowCumprods,\n",
      "    rowCumsums, rowDiffs, rowIQRDiffs, rowIQRs, rowLogSumExps,\n",
      "    rowMadDiffs, rowMads, rowMaxs, rowMeans2, rowMedians, rowMins,\n",
      "    rowOrderStats, rowProds, rowQuantiles, rowRanges, rowRanks,\n",
      "    rowSdDiffs, rowSds, rowSums2, rowTabulates, rowVarDiffs, rowVars,\n",
      "    rowWeightedMads, rowWeightedMeans, rowWeightedMedians,\n",
      "    rowWeightedSds, rowWeightedVars\n",
      "\n",
      "\n",
      "Loading required package: Biobase\n",
      "\n",
      "Welcome to Bioconductor\n",
      "\n",
      "    Vignettes contain introductory material; view with\n",
      "    'browseVignettes()'. To cite Bioconductor, see\n",
      "    'citation(\"Biobase\")', and for packages 'citation(\"pkgname\")'.\n",
      "\n",
      "\n",
      "\n",
      "Attaching package: ‘Biobase’\n",
      "\n",
      "\n",
      "The following object is masked from ‘package:MatrixGenerics’:\n",
      "\n",
      "    rowMedians\n",
      "\n",
      "\n",
      "The following objects are masked from ‘package:matrixStats’:\n",
      "\n",
      "    anyMissing, rowMedians\n",
      "\n",
      "\n",
      "Warning message in DESeqDataSet(se, design = design, ignoreRank):\n",
      "“some variables in design formula are characters, converting to factors”\n"
     ]
    }
   ],
   "source": [
    "library(DESeq2)\n",
    "dds <- DESeqDataSetFromMatrix(countData = as.data.frame(gt),\n",
    "                                   colData = si ,\n",
    "                                   design = ~Condition )\n",
    "\n",
    "keep <- rowSums(counts(dds)) >= 5\n",
    "dds <- dds[keep,]\n",
    "\n"
   ]
  },
  {
   "cell_type": "code",
   "execution_count": 12,
   "metadata": {},
   "outputs": [],
   "source": [
    "dds = collapseReplicates(dds, groupby = si$Sample)"
   ]
  },
  {
   "cell_type": "code",
   "execution_count": 13,
   "metadata": {},
   "outputs": [
    {
     "name": "stderr",
     "output_type": "stream",
     "text": [
      "estimating size factors\n",
      "\n",
      "estimating dispersions\n",
      "\n",
      "gene-wise dispersion estimates\n",
      "\n",
      "mean-dispersion relationship\n",
      "\n",
      "final dispersion estimates\n",
      "\n",
      "fitting model and testing\n",
      "\n"
     ]
    }
   ],
   "source": [
    "dds = DESeq(dds)\n",
    "counts = counts(dds, normalized = T)\n",
    "results <- results ( dds , independentFiltering = TRUE , alpha = 0.05)\n",
    "results = na.omit(results)\n",
    "resl = results[results$padj < 0.05, ]"
   ]
  },
  {
   "cell_type": "code",
   "execution_count": 15,
   "metadata": {},
   "outputs": [],
   "source": [
    "write.table(counts, \"DESeq2_Normalized_Counts.tsv\", quote = F, sep = \"\\t\")"
   ]
  },
  {
   "cell_type": "code",
   "execution_count": 16,
   "metadata": {},
   "outputs": [
    {
     "data": {
      "text/html": [
       "'/home/rchirravurivenkata'"
      ],
      "text/latex": [
       "'/home/rchirravurivenkata'"
      ],
      "text/markdown": [
       "'/home/rchirravurivenkata'"
      ],
      "text/plain": [
       "[1] \"/home/rchirravurivenkata\""
      ]
     },
     "metadata": {},
     "output_type": "display_data"
    }
   ],
   "source": []
  },
  {
   "cell_type": "code",
   "execution_count": null,
   "metadata": {},
   "outputs": [],
   "source": []
  }
 ],
 "metadata": {
  "kernelspec": {
   "display_name": "R",
   "language": "R",
   "name": "ir"
  },
  "language_info": {
   "codemirror_mode": "r",
   "file_extension": ".r",
   "mimetype": "text/x-r-source",
   "name": "R",
   "pygments_lexer": "r",
   "version": "4.1.3"
  }
 },
 "nbformat": 4,
 "nbformat_minor": 4
}
